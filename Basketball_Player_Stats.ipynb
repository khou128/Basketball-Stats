{
  "nbformat": 4,
  "nbformat_minor": 0,
  "metadata": {
    "colab": {
      "provenance": [],
      "authorship_tag": "ABX9TyNiBNAHfZGYaOAXJEqgERtv",
      "include_colab_link": true
    },
    "kernelspec": {
      "name": "python3",
      "display_name": "Python 3"
    },
    "language_info": {
      "name": "python"
    }
  },
  "cells": [
    {
      "cell_type": "markdown",
      "metadata": {
        "id": "view-in-github",
        "colab_type": "text"
      },
      "source": [
        "<a href=\"https://colab.research.google.com/github/khou128/Basketball-Stats/blob/main/Basketball_Player_Stats.ipynb\" target=\"_parent\"><img src=\"https://colab.research.google.com/assets/colab-badge.svg\" alt=\"Open In Colab\"/></a>"
      ]
    },
    {
      "cell_type": "code",
      "execution_count": 2,
      "metadata": {
        "id": "WZGoiH7u5Q8H"
      },
      "outputs": [],
      "source": [
        "import pandas as pd"
      ]
    },
    {
      "cell_type": "code",
      "source": [
        "url_1 = 'https://raw.githubusercontent.com/khou128/Basketball-Stats/main/2021-2022%20NBA%20Player%20Stats%20-%20Regular.csv'\n",
        "df_TMDB = pd.read_csv(url_1)\n",
        "df_TMDB"
      ],
      "metadata": {
        "id": "gnGg6_C06Tcc"
      },
      "execution_count": null,
      "outputs": []
    }
  ]
}